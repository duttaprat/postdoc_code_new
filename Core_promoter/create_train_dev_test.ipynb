{
 "cells": [
  {
   "cell_type": "code",
   "execution_count": 4,
   "id": "cdd0a298-de34-4915-8bae-192d11cb06ca",
   "metadata": {},
   "outputs": [],
   "source": [
    "import os, tarfile\n",
    "import re\n",
    "import pandas as pd\n",
    "import numpy as np\n",
    "import zipfile, gzip\n",
    "import pandas as pd\n",
    "from sklearn.model_selection import train_test_split\n",
    "from sklearn.utils import shuffle"
   ]
  },
  {
   "cell_type": "code",
   "execution_count": 5,
   "id": "da105da3-29e7-4fce-b9d1-9da69096fdb0",
   "metadata": {},
   "outputs": [],
   "source": [
    "TRAIN_PATH = \"/data/projects/DNABERT_data/Core_promoters/positive_set.tsv\"\n",
    "TEST_PATH = \"/data/projects/DNABERT_data/Core_promoters/negative_set.tsv\""
   ]
  },
  {
   "cell_type": "code",
   "execution_count": 6,
   "id": "8269260f-ccba-4d08-aa85-ce0ec59f9dd2",
   "metadata": {},
   "outputs": [
    {
     "name": "stdout",
     "output_type": "stream",
     "text": [
      "(236975, 2)\n",
      "(27455282, 2)\n"
     ]
    }
   ],
   "source": [
    "train_csv  =  pd.read_csv(TRAIN_PATH,  sep='\\t')\n",
    "print(train_csv.shape)\n",
    "test_csv  =  pd.read_csv(TEST_PATH,  sep='\\t')\n",
    "print (test_csv.shape)"
   ]
  },
  {
   "cell_type": "code",
   "execution_count": 7,
   "id": "1a9551ff-9e11-45ef-ae21-ca1a2fa5db7c",
   "metadata": {},
   "outputs": [],
   "source": [
    "test_csv = test_csv.sample(n=236975)"
   ]
  },
  {
   "cell_type": "code",
   "execution_count": 8,
   "id": "63c849f5-059e-4870-8917-6315bec40cfc",
   "metadata": {},
   "outputs": [
    {
     "data": {
      "text/html": [
       "<div>\n",
       "<style scoped>\n",
       "    .dataframe tbody tr th:only-of-type {\n",
       "        vertical-align: middle;\n",
       "    }\n",
       "\n",
       "    .dataframe tbody tr th {\n",
       "        vertical-align: top;\n",
       "    }\n",
       "\n",
       "    .dataframe thead th {\n",
       "        text-align: right;\n",
       "    }\n",
       "</style>\n",
       "<table border=\"1\" class=\"dataframe\">\n",
       "  <thead>\n",
       "    <tr style=\"text-align: right;\">\n",
       "      <th></th>\n",
       "      <th>Sequence</th>\n",
       "      <th>Label</th>\n",
       "    </tr>\n",
       "  </thead>\n",
       "  <tbody>\n",
       "    <tr>\n",
       "      <th>8171022</th>\n",
       "      <td>GGGAAG GGAAGG GAAGGA AAGGAG AGGAGG GGAGGG GAGG...</td>\n",
       "      <td>0</td>\n",
       "    </tr>\n",
       "    <tr>\n",
       "      <th>21703716</th>\n",
       "      <td>AGCCTG GCCTGA CCTGAC CTGACC TGACCA GACCAA ACCA...</td>\n",
       "      <td>0</td>\n",
       "    </tr>\n",
       "    <tr>\n",
       "      <th>16897978</th>\n",
       "      <td>TCAATC CAATCC AATCCT ATCCTT TCCTTT CCTTTT CTTT...</td>\n",
       "      <td>0</td>\n",
       "    </tr>\n",
       "    <tr>\n",
       "      <th>6990685</th>\n",
       "      <td>TCATCA CATCAA ATCAAG TCAAGT CAAGTA AAGTAT AGTA...</td>\n",
       "      <td>0</td>\n",
       "    </tr>\n",
       "    <tr>\n",
       "      <th>18296965</th>\n",
       "      <td>ATGTAT TGTATA GTATAT TATATA ATATAT TATATA ATAT...</td>\n",
       "      <td>0</td>\n",
       "    </tr>\n",
       "    <tr>\n",
       "      <th>...</th>\n",
       "      <td>...</td>\n",
       "      <td>...</td>\n",
       "    </tr>\n",
       "    <tr>\n",
       "      <th>10997698</th>\n",
       "      <td>GATAAA ATAAAG TAAAGT AAAGTA AAGTAG AGTAGA GTAG...</td>\n",
       "      <td>0</td>\n",
       "    </tr>\n",
       "    <tr>\n",
       "      <th>2401205</th>\n",
       "      <td>AGTGAG GTGAGT TGAGTT GAGTTT AGTTTC GTTTCT TTTC...</td>\n",
       "      <td>0</td>\n",
       "    </tr>\n",
       "    <tr>\n",
       "      <th>17490486</th>\n",
       "      <td>ATAAAG TAAAGG AAAGGT AAGGTT AGGTTT GGTTTA GTTT...</td>\n",
       "      <td>0</td>\n",
       "    </tr>\n",
       "    <tr>\n",
       "      <th>25408312</th>\n",
       "      <td>AAAATG AAATGG AATGGA ATGGAT TGGATC GGATCT GATC...</td>\n",
       "      <td>0</td>\n",
       "    </tr>\n",
       "    <tr>\n",
       "      <th>13294115</th>\n",
       "      <td>TTTATT TTATTT TATTTA ATTTAG TTTAGT TTAGTT TAGT...</td>\n",
       "      <td>0</td>\n",
       "    </tr>\n",
       "  </tbody>\n",
       "</table>\n",
       "<p>236975 rows × 2 columns</p>\n",
       "</div>"
      ],
      "text/plain": [
       "                                                   Sequence  Label\n",
       "8171022   GGGAAG GGAAGG GAAGGA AAGGAG AGGAGG GGAGGG GAGG...      0\n",
       "21703716  AGCCTG GCCTGA CCTGAC CTGACC TGACCA GACCAA ACCA...      0\n",
       "16897978  TCAATC CAATCC AATCCT ATCCTT TCCTTT CCTTTT CTTT...      0\n",
       "6990685   TCATCA CATCAA ATCAAG TCAAGT CAAGTA AAGTAT AGTA...      0\n",
       "18296965  ATGTAT TGTATA GTATAT TATATA ATATAT TATATA ATAT...      0\n",
       "...                                                     ...    ...\n",
       "10997698  GATAAA ATAAAG TAAAGT AAAGTA AAGTAG AGTAGA GTAG...      0\n",
       "2401205   AGTGAG GTGAGT TGAGTT GAGTTT AGTTTC GTTTCT TTTC...      0\n",
       "17490486  ATAAAG TAAAGG AAAGGT AAGGTT AGGTTT GGTTTA GTTT...      0\n",
       "25408312  AAAATG AAATGG AATGGA ATGGAT TGGATC GGATCT GATC...      0\n",
       "13294115  TTTATT TTATTT TATTTA ATTTAG TTTAGT TTAGTT TAGT...      0\n",
       "\n",
       "[236975 rows x 2 columns]"
      ]
     },
     "execution_count": 8,
     "metadata": {},
     "output_type": "execute_result"
    }
   ],
   "source": [
    "test_csv"
   ]
  },
  {
   "cell_type": "code",
   "execution_count": 9,
   "id": "6d21d321-a58c-493f-8d54-0de0fa4a6db5",
   "metadata": {},
   "outputs": [
    {
     "name": "stdout",
     "output_type": "stream",
     "text": [
      "(473950, 2)\n",
      "                                            Sequence  Label\n",
      "0  GCTTTG CTTTGC TTTGCA TTGCAT TGCATG GCATGC CATG...      1\n",
      "1  GGACGG GACGGA ACGGAG CGGAGC GGAGCG GAGCGG AGCG...      1\n",
      "2  CTCCAC TCCACT CCACTT CACTTC ACTTCC CTTCCT TTCC...      1\n",
      "3  TGGCCC GGCCCC GCCCCG CCCCGC CCCGCC CCGCCC CGCC...      1\n",
      "4  TCCCTC CCCTCC CCTCCC CTCCCA TCCCAC CCCACC CCAC...      1\n",
      "Label\n",
      "0    236975\n",
      "1    236975\n",
      "dtype: int64\n"
     ]
    }
   ],
   "source": [
    "all_data = pd.concat([train_csv, test_csv], ignore_index=True)\n",
    "print(all_data.shape)\n",
    "print (all_data.head())\n",
    "print(all_data.groupby(['Label']).size())"
   ]
  },
  {
   "cell_type": "code",
   "execution_count": 10,
   "id": "86981274-16dc-4444-ae56-df2b19be889c",
   "metadata": {},
   "outputs": [
    {
     "data": {
      "text/html": [
       "<div>\n",
       "<style scoped>\n",
       "    .dataframe tbody tr th:only-of-type {\n",
       "        vertical-align: middle;\n",
       "    }\n",
       "\n",
       "    .dataframe tbody tr th {\n",
       "        vertical-align: top;\n",
       "    }\n",
       "\n",
       "    .dataframe thead th {\n",
       "        text-align: right;\n",
       "    }\n",
       "</style>\n",
       "<table border=\"1\" class=\"dataframe\">\n",
       "  <thead>\n",
       "    <tr style=\"text-align: right;\">\n",
       "      <th></th>\n",
       "      <th>Sequence</th>\n",
       "      <th>Label</th>\n",
       "    </tr>\n",
       "  </thead>\n",
       "  <tbody>\n",
       "    <tr>\n",
       "      <th>0</th>\n",
       "      <td>TACCAT ACCATA CCATAT CATATT ATATTA TATTAC ATTA...</td>\n",
       "      <td>0</td>\n",
       "    </tr>\n",
       "    <tr>\n",
       "      <th>1</th>\n",
       "      <td>CACCGC ACCGCT CCGCTT CGCTTT GCTTTA CTTTAT TTTA...</td>\n",
       "      <td>1</td>\n",
       "    </tr>\n",
       "    <tr>\n",
       "      <th>2</th>\n",
       "      <td>GTAAAC TAAACA AAACAG AACAGT ACAGTT CAGTTG AGTT...</td>\n",
       "      <td>1</td>\n",
       "    </tr>\n",
       "    <tr>\n",
       "      <th>3</th>\n",
       "      <td>CAATAA AATAAT ATAATT TAATTA AATTAA ATTAAA TTAA...</td>\n",
       "      <td>0</td>\n",
       "    </tr>\n",
       "    <tr>\n",
       "      <th>4</th>\n",
       "      <td>GCACAA CACAAA ACAAAA CAAAAC AAAACT AAACTG AACT...</td>\n",
       "      <td>1</td>\n",
       "    </tr>\n",
       "    <tr>\n",
       "      <th>5</th>\n",
       "      <td>GGGGCG GGGCGG GGCGGG GCGGGG CGGGGC GGGGCG GGGC...</td>\n",
       "      <td>1</td>\n",
       "    </tr>\n",
       "    <tr>\n",
       "      <th>6</th>\n",
       "      <td>TTCCTT TCCTTT CCTTTC CTTTCT TTTCTT TTCTTT TCTT...</td>\n",
       "      <td>1</td>\n",
       "    </tr>\n",
       "    <tr>\n",
       "      <th>7</th>\n",
       "      <td>CCAAGA CAAGAT AAGATG AGATGT GATGTT ATGTTT TGTT...</td>\n",
       "      <td>0</td>\n",
       "    </tr>\n",
       "    <tr>\n",
       "      <th>8</th>\n",
       "      <td>CAGCTC AGCTCC GCTCCA CTCCAG TCCAGA CCAGAA CAGA...</td>\n",
       "      <td>0</td>\n",
       "    </tr>\n",
       "    <tr>\n",
       "      <th>9</th>\n",
       "      <td>ACCTCC CCTCCC CTCCCG TCCCGT CCCGTG CCGTGA CGTG...</td>\n",
       "      <td>1</td>\n",
       "    </tr>\n",
       "  </tbody>\n",
       "</table>\n",
       "</div>"
      ],
      "text/plain": [
       "                                            Sequence  Label\n",
       "0  TACCAT ACCATA CCATAT CATATT ATATTA TATTAC ATTA...      0\n",
       "1  CACCGC ACCGCT CCGCTT CGCTTT GCTTTA CTTTAT TTTA...      1\n",
       "2  GTAAAC TAAACA AAACAG AACAGT ACAGTT CAGTTG AGTT...      1\n",
       "3  CAATAA AATAAT ATAATT TAATTA AATTAA ATTAAA TTAA...      0\n",
       "4  GCACAA CACAAA ACAAAA CAAAAC AAAACT AAACTG AACT...      1\n",
       "5  GGGGCG GGGCGG GGCGGG GCGGGG CGGGGC GGGGCG GGGC...      1\n",
       "6  TTCCTT TCCTTT CCTTTC CTTTCT TTTCTT TTCTTT TCTT...      1\n",
       "7  CCAAGA CAAGAT AAGATG AGATGT GATGTT ATGTTT TGTT...      0\n",
       "8  CAGCTC AGCTCC GCTCCA CTCCAG TCCAGA CCAGAA CAGA...      0\n",
       "9  ACCTCC CCTCCC CTCCCG TCCCGT CCCGTG CCGTGA CGTG...      1"
      ]
     },
     "execution_count": 10,
     "metadata": {},
     "output_type": "execute_result"
    }
   ],
   "source": [
    "all_data = shuffle(all_data).reset_index(drop=True)\n",
    "all_data.head(10)"
   ]
  },
  {
   "cell_type": "markdown",
   "id": "b1e854ea-2556-48e9-a8fe-eb9b508c7d26",
   "metadata": {},
   "source": [
    "# Creating train and testing dataset"
   ]
  },
  {
   "cell_type": "code",
   "execution_count": 14,
   "id": "0fd94088-8542-4675-850a-5850e95cb0ae",
   "metadata": {},
   "outputs": [
    {
     "name": "stdout",
     "output_type": "stream",
     "text": [
      "(383899, 2) (47395, 2) (42656, 2)\n",
      "Label\n",
      "0    191755\n",
      "1    192144\n",
      "dtype: int64 Label\n",
      "0    23776\n",
      "1    23619\n",
      "dtype: int64 Label\n",
      "0    21444\n",
      "1    21212\n",
      "dtype: int64\n"
     ]
    }
   ],
   "source": [
    "train, test = train_test_split(all_data, test_size=0.10)\n",
    "train, val = train_test_split(train, test_size=0.10)\n",
    "print (train.shape, test.shape, val.shape)\n",
    "print(train.groupby(['Label']).size(), test.groupby(['Label']).size() , val.groupby(['Label']).size())"
   ]
  },
  {
   "cell_type": "code",
   "execution_count": 16,
   "id": "eb984368-b1cb-4c6e-9171-dc55cf1d5864",
   "metadata": {},
   "outputs": [],
   "source": [
    "output_folder_path =\"/data/projects/DNABERT_data/Core_promoters/Finetuned_data\" \n",
    "if not os.path.exists(output_folder_path + '/Evaluation_data'):\n",
    "    os.makedirs(output_folder_path + '/Evaluation_data')"
   ]
  },
  {
   "cell_type": "code",
   "execution_count": 17,
   "id": "3c073550-550d-4db9-a474-8bdf50ab0850",
   "metadata": {},
   "outputs": [],
   "source": [
    "train.to_csv(output_folder_path+\"/train.tsv\", sep=\"\\t\", index=False)\n",
    "test.to_csv(output_folder_path+\"/dev.tsv\", sep=\"\\t\", index=False)\n",
    "val.to_csv(output_folder_path+\"/Evaluation_data/dev.tsv\", sep=\"\\t\", index=False)"
   ]
  },
  {
   "cell_type": "code",
   "execution_count": null,
   "id": "d27f37d9-a1b9-45ab-a2f4-637f59be2453",
   "metadata": {},
   "outputs": [],
   "source": []
  }
 ],
 "metadata": {
  "kernelspec": {
   "display_name": "Python 3 (ipykernel)",
   "language": "python",
   "name": "python3"
  },
  "language_info": {
   "codemirror_mode": {
    "name": "ipython",
    "version": 3
   },
   "file_extension": ".py",
   "mimetype": "text/x-python",
   "name": "python",
   "nbconvert_exporter": "python",
   "pygments_lexer": "ipython3",
   "version": "3.10.4"
  }
 },
 "nbformat": 4,
 "nbformat_minor": 5
}
