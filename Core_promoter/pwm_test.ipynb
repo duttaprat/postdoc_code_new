{
 "cells": [
  {
   "cell_type": "code",
   "execution_count": 15,
   "id": "2c77fc67-2307-4855-89ea-6732094a4f1c",
   "metadata": {},
   "outputs": [],
   "source": [
    "import numpy as np\n",
    "import math"
   ]
  },
  {
   "cell_type": "code",
   "execution_count": 5,
   "id": "77a9e0e2-cb2f-42c2-ba4b-a3b4237f3773",
   "metadata": {},
   "outputs": [],
   "source": [
    "# Let's read the PFM file first to understand its structure\n",
    "file_path = '/home/campus.stonybrook.edu/pdutta/Github/Postdoc/DNABERT_data_processing/Core_promoter/POL012.1.pfm'"
   ]
  },
  {
   "cell_type": "code",
   "execution_count": 6,
   "id": "a669c6dd-39bc-4ce5-be45-2adef92337e1",
   "metadata": {},
   "outputs": [],
   "source": [
    "# Parsing the PFM data from the text file\n",
    "pfm = {}\n",
    "nucleotides = ['A', 'C', 'G', 'T']\n",
    "\n",
    "with open(file_path, 'r') as file:\n",
    "    pfm_data = file.readlines()[1:]  # Skip the first line (header)\n",
    "\n",
    "for line in pfm_data:\n",
    "    parts = line.split()\n",
    "    nt = parts[0]\n",
    "    counts = [float(count) for count in parts[1:]]\n",
    "\n",
    "    if nt in nucleotides:\n",
    "        for i, count in enumerate(counts):\n",
    "            if i not in pfm:\n",
    "                pfm[i] = {}\n",
    "            pfm[i][nt] = count"
   ]
  },
  {
   "cell_type": "code",
   "execution_count": 7,
   "id": "739a49b4-79ca-4cc5-bd70-207a090d1705",
   "metadata": {},
   "outputs": [
    {
     "data": {
      "text/plain": [
       "{0: {'A': 61.0, 'C': 145.0, 'G': 152.0, 'T': 31.0},\n",
       " 1: {'A': 16.0, 'C': 46.0, 'G': 18.0, 'T': 309.0},\n",
       " 2: {'A': 352.0, 'C': 0.0, 'G': 2.0, 'T': 35.0},\n",
       " 3: {'A': 3.0, 'C': 10.0, 'G': 2.0, 'T': 374.0},\n",
       " 4: {'A': 354.0, 'C': 0.0, 'G': 5.0, 'T': 30.0},\n",
       " 5: {'A': 268.0, 'C': 0.0, 'G': 0.0, 'T': 121.0},\n",
       " 6: {'A': 360.0, 'C': 3.0, 'G': 10.0, 'T': 6.0},\n",
       " 7: {'A': 222.0, 'C': 2.0, 'G': 44.0, 'T': 121.0},\n",
       " 8: {'A': 155.0, 'C': 44.0, 'G': 157.0, 'T': 33.0},\n",
       " 9: {'A': 56.0, 'C': 135.0, 'G': 150.0, 'T': 48.0},\n",
       " 10: {'A': 83.0, 'C': 147.0, 'G': 128.0, 'T': 31.0},\n",
       " 11: {'A': 82.0, 'C': 127.0, 'G': 128.0, 'T': 52.0},\n",
       " 12: {'A': 82.0, 'C': 118.0, 'G': 128.0, 'T': 61.0},\n",
       " 13: {'A': 68.0, 'C': 107.0, 'G': 139.0, 'T': 75.0},\n",
       " 14: {'A': 77.0, 'C': 101.0, 'G': 140.0, 'T': 71.0}}"
      ]
     },
     "execution_count": 7,
     "metadata": {},
     "output_type": "execute_result"
    }
   ],
   "source": [
    "pfm"
   ]
  },
  {
   "cell_type": "code",
   "execution_count": 16,
   "id": "27693030-42c4-4fef-b44f-352451a53f6c",
   "metadata": {},
   "outputs": [
    {
     "name": "stdout",
     "output_type": "stream",
     "text": [
      "0 {'A': 61.0, 'C': 145.0, 'G': 152.0, 'T': 31.0}\n",
      "389.0\n",
      "A 61.0\n",
      "0.1613091442236915 0.25\n",
      "{0: {'A': -0.6320998711969997}}\n"
     ]
    },
    {
     "ename": "KeyboardInterrupt",
     "evalue": "Interrupted by user",
     "output_type": "error",
     "traceback": [
      "\u001b[0;31m---------------------------------------------------------------------------\u001b[0m",
      "\u001b[0;31mKeyboardInterrupt\u001b[0m                         Traceback (most recent call last)",
      "Cell \u001b[0;32mIn[16], line 17\u001b[0m\n\u001b[1;32m     15\u001b[0m pwm[pos][nt] \u001b[38;5;241m=\u001b[39m np\u001b[38;5;241m.\u001b[39mlog2(probability \u001b[38;5;241m/\u001b[39m background[nt])\n\u001b[1;32m     16\u001b[0m \u001b[38;5;28mprint\u001b[39m(pwm)\n\u001b[0;32m---> 17\u001b[0m \u001b[38;5;28;43minput\u001b[39;49m\u001b[43m(\u001b[49m\u001b[43m)\u001b[49m\n",
      "File \u001b[0;32m/shared/software/anaconda/anaconda3/lib/python3.10/site-packages/ipykernel/kernelbase.py:1175\u001b[0m, in \u001b[0;36mKernel.raw_input\u001b[0;34m(self, prompt)\u001b[0m\n\u001b[1;32m   1171\u001b[0m \u001b[38;5;28;01mif\u001b[39;00m \u001b[38;5;129;01mnot\u001b[39;00m \u001b[38;5;28mself\u001b[39m\u001b[38;5;241m.\u001b[39m_allow_stdin:\n\u001b[1;32m   1172\u001b[0m     \u001b[38;5;28;01mraise\u001b[39;00m StdinNotImplementedError(\n\u001b[1;32m   1173\u001b[0m         \u001b[38;5;124m\"\u001b[39m\u001b[38;5;124mraw_input was called, but this frontend does not support input requests.\u001b[39m\u001b[38;5;124m\"\u001b[39m\n\u001b[1;32m   1174\u001b[0m     )\n\u001b[0;32m-> 1175\u001b[0m \u001b[38;5;28;01mreturn\u001b[39;00m \u001b[38;5;28;43mself\u001b[39;49m\u001b[38;5;241;43m.\u001b[39;49m\u001b[43m_input_request\u001b[49m\u001b[43m(\u001b[49m\n\u001b[1;32m   1176\u001b[0m \u001b[43m    \u001b[49m\u001b[38;5;28;43mstr\u001b[39;49m\u001b[43m(\u001b[49m\u001b[43mprompt\u001b[49m\u001b[43m)\u001b[49m\u001b[43m,\u001b[49m\n\u001b[1;32m   1177\u001b[0m \u001b[43m    \u001b[49m\u001b[38;5;28;43mself\u001b[39;49m\u001b[38;5;241;43m.\u001b[39;49m\u001b[43m_parent_ident\u001b[49m\u001b[43m[\u001b[49m\u001b[38;5;124;43m\"\u001b[39;49m\u001b[38;5;124;43mshell\u001b[39;49m\u001b[38;5;124;43m\"\u001b[39;49m\u001b[43m]\u001b[49m\u001b[43m,\u001b[49m\n\u001b[1;32m   1178\u001b[0m \u001b[43m    \u001b[49m\u001b[38;5;28;43mself\u001b[39;49m\u001b[38;5;241;43m.\u001b[39;49m\u001b[43mget_parent\u001b[49m\u001b[43m(\u001b[49m\u001b[38;5;124;43m\"\u001b[39;49m\u001b[38;5;124;43mshell\u001b[39;49m\u001b[38;5;124;43m\"\u001b[39;49m\u001b[43m)\u001b[49m\u001b[43m,\u001b[49m\n\u001b[1;32m   1179\u001b[0m \u001b[43m    \u001b[49m\u001b[43mpassword\u001b[49m\u001b[38;5;241;43m=\u001b[39;49m\u001b[38;5;28;43;01mFalse\u001b[39;49;00m\u001b[43m,\u001b[49m\n\u001b[1;32m   1180\u001b[0m \u001b[43m\u001b[49m\u001b[43m)\u001b[49m\n",
      "File \u001b[0;32m/shared/software/anaconda/anaconda3/lib/python3.10/site-packages/ipykernel/kernelbase.py:1217\u001b[0m, in \u001b[0;36mKernel._input_request\u001b[0;34m(self, prompt, ident, parent, password)\u001b[0m\n\u001b[1;32m   1214\u001b[0m             \u001b[38;5;28;01mbreak\u001b[39;00m\n\u001b[1;32m   1215\u001b[0m \u001b[38;5;28;01mexcept\u001b[39;00m \u001b[38;5;167;01mKeyboardInterrupt\u001b[39;00m:\n\u001b[1;32m   1216\u001b[0m     \u001b[38;5;66;03m# re-raise KeyboardInterrupt, to truncate traceback\u001b[39;00m\n\u001b[0;32m-> 1217\u001b[0m     \u001b[38;5;28;01mraise\u001b[39;00m \u001b[38;5;167;01mKeyboardInterrupt\u001b[39;00m(\u001b[38;5;124m\"\u001b[39m\u001b[38;5;124mInterrupted by user\u001b[39m\u001b[38;5;124m\"\u001b[39m) \u001b[38;5;28;01mfrom\u001b[39;00m \u001b[38;5;28mNone\u001b[39m\n\u001b[1;32m   1218\u001b[0m \u001b[38;5;28;01mexcept\u001b[39;00m \u001b[38;5;167;01mException\u001b[39;00m:\n\u001b[1;32m   1219\u001b[0m     \u001b[38;5;28mself\u001b[39m\u001b[38;5;241m.\u001b[39mlog\u001b[38;5;241m.\u001b[39mwarning(\u001b[38;5;124m\"\u001b[39m\u001b[38;5;124mInvalid Message:\u001b[39m\u001b[38;5;124m\"\u001b[39m, exc_info\u001b[38;5;241m=\u001b[39m\u001b[38;5;28;01mTrue\u001b[39;00m)\n",
      "\u001b[0;31mKeyboardInterrupt\u001b[0m: Interrupted by user"
     ]
    }
   ],
   "source": [
    "# Background nucleotide probabilities (assuming equal distribution)\n",
    "background = {'A': 0.25, 'C': 0.25, 'G': 0.25, 'T': 0.25}\n",
    "\n",
    "# Convert PFM to probabilities and then to PWM (log-likelihood ratios)\n",
    "pwm = {}\n",
    "for pos, counts in pfm.items():\n",
    "    print(pos, counts)\n",
    "    total_counts = sum(counts.values())\n",
    "    print(total_counts)\n",
    "    pwm[pos] = {}\n",
    "    for nt, count in counts.items():\n",
    "        print(nt, count)\n",
    "        probability = (count+ (math.sqrt(total_counts)/4)) / (total_counts+math.sqrt(total_counts))\n",
    "        print(probability, background[nt])\n",
    "        pwm[pos][nt] = np.log2(probability / background[nt])\n",
    "        print(pwm)\n",
    "        input()"
   ]
  },
  {
   "cell_type": "code",
   "execution_count": 9,
   "id": "910a9945-c6e5-42dd-a143-aed4adfea746",
   "metadata": {},
   "outputs": [
    {
     "data": {
      "text/plain": [
       "{0: {'A': -0.6728890074233057,\n",
       "  'C': 0.5762827450287427,\n",
       "  'G': 0.6443011684573935,\n",
       "  'T': -1.6494300345993167},\n",
       " 1: {'A': -2.603626344986192,\n",
       "  'C': -1.080064388929179,\n",
       "  'G': -2.4337013435438797,\n",
       "  'T': 1.6678366829181825},\n",
       " 2: {'A': 1.8558052736511053,\n",
       "  'C': -inf,\n",
       "  'G': -5.603626344986192,\n",
       "  'T': -1.4743433280412255},\n",
       " 3: {'A': -5.018663844265036,\n",
       "  'C': -3.2816982500988297,\n",
       "  'G': -5.603626344986192,\n",
       "  'T': 1.9432681149014446},\n",
       " 4: {'A': 1.8639792050968056,\n",
       "  'C': -inf,\n",
       "  'G': -4.281698250098829,\n",
       "  'T': -1.6967357493776734},\n",
       " 5: {'A': 1.4624628454715807, 'C': -inf, 'G': -inf, 'T': 0.3152368922884027},\n",
       " 6: {'A': 1.9257990581585829,\n",
       "  'C': -4.981091537449935,\n",
       "  'G': -3.2441259432837293,\n",
       "  'T': -3.9810915374499354},\n",
       " 7: {'A': 1.190789521363914,\n",
       "  'C': -5.603626344986192,\n",
       "  'G': -1.1441947263488947,\n",
       "  'T': 0.3152368922884027},\n",
       " 8: {'A': 0.6724980602880456,\n",
       "  'C': -1.1441947263488947,\n",
       "  'G': 0.6909944039054351,\n",
       "  'T': -1.5592322256277384},\n",
       " 9: {'A': -0.7962714229285878,\n",
       "  'C': 0.4731892520646389,\n",
       "  'G': 0.6251923455096888,\n",
       "  'T': -1.0186638442650358},\n",
       " 10: {'A': -0.2285869136392672,\n",
       "  'C': 0.5960459998501725,\n",
       "  'G': 0.39637365501380795,\n",
       "  'T': -1.6494300345993167},\n",
       " 11: {'A': -0.24607434036810824,\n",
       "  'C': 0.3850583417859739,\n",
       "  'G': 0.39637365501380795,\n",
       "  'T': -0.9031866268450999},\n",
       " 12: {'A': -0.24607434036810824,\n",
       "  'C': 0.27901670437564935,\n",
       "  'G': 0.39637365501380795,\n",
       "  'T': -0.6728890074233057},\n",
       " 13: {'A': -0.5161635037358525,\n",
       "  'C': 0.137840641414955,\n",
       "  'G': 0.5153147277373155,\n",
       "  'T': -0.3748076544903111},\n",
       " 14: {'A': -0.33683980429129046,\n",
       "  'C': 0.05458513776560287,\n",
       "  'G': 0.5256566719587745,\n",
       "  'T': -0.4538792254815099}}"
      ]
     },
     "execution_count": 9,
     "metadata": {},
     "output_type": "execute_result"
    }
   ],
   "source": [
    "pwm"
   ]
  },
  {
   "cell_type": "code",
   "execution_count": 19,
   "id": "309c4fa8-187a-4773-9b9b-ce238746359a",
   "metadata": {},
   "outputs": [
    {
     "name": "stdout",
     "output_type": "stream",
     "text": [
      "A [18, 8, 5, 4, 1, 29, 7, 7, 7, 0, 1, 39, 1, 1]\n"
     ]
    },
    {
     "ename": "AttributeError",
     "evalue": "'list' object has no attribute 'values'",
     "output_type": "error",
     "traceback": [
      "\u001b[0;31m---------------------------------------------------------------------------\u001b[0m",
      "\u001b[0;31mAttributeError\u001b[0m                            Traceback (most recent call last)",
      "Cell \u001b[0;32mIn[19], line 16\u001b[0m\n\u001b[1;32m     14\u001b[0m \u001b[38;5;28;01mfor\u001b[39;00m pos, counts \u001b[38;5;129;01min\u001b[39;00m pfm_data\u001b[38;5;241m.\u001b[39mitems():\n\u001b[1;32m     15\u001b[0m     \u001b[38;5;28mprint\u001b[39m(pos, counts)\n\u001b[0;32m---> 16\u001b[0m     total_counts \u001b[38;5;241m=\u001b[39m \u001b[38;5;28msum\u001b[39m(\u001b[43mcounts\u001b[49m\u001b[38;5;241;43m.\u001b[39;49m\u001b[43mvalues\u001b[49m())\n\u001b[1;32m     17\u001b[0m     \u001b[38;5;28mprint\u001b[39m(total_counts)\n\u001b[1;32m     18\u001b[0m     pwm[pos] \u001b[38;5;241m=\u001b[39m {}\n",
      "\u001b[0;31mAttributeError\u001b[0m: 'list' object has no attribute 'values'"
     ]
    }
   ],
   "source": [
    "# PFM data from the PDF document\n",
    "pfm_data = {\n",
    "    'A': [18, 8, 5, 4, 1, 29, 7, 7, 7, 0, 1, 39, 1, 1],\n",
    "    'C': [8, 3, 3, 9, 33, 4, 21, 15, 14, 0, 0, 1, 43, 39],\n",
    "    'G': [13, 31, 34, 9, 8, 10, 11, 15, 19, 4, 44, 3, 0, 1],\n",
    "    'T': [7, 4, 4, 24, 4, 3, 7, 9, 6, 42, 1, 3, 2, 5]\n",
    "}\n",
    "\n",
    "# Background nucleotide probabilities (assuming equal distribution)\n",
    "background = {'A': 0.25, 'C': 0.25, 'G': 0.25, 'T': 0.25}\n",
    "\n",
    "# Convert PFM to probabilities and then to PWM (log-likelihood ratios)\n",
    "pwm = {}\n",
    "for pos, counts in pfm_data.items():\n",
    "    print(pos, counts)\n",
    "    total_counts = sum(counts.values())\n",
    "    print(total_counts)\n",
    "    pwm[pos] = {}\n",
    "    for nt, count in counts.items():\n",
    "        print(nt, count)\n",
    "        probability = (count+ (math.sqrt(total_counts)/4)) / (total_counts+math.sqrt(total_counts))\n",
    "        print(probability, background[nt])\n",
    "        pwm[pos][nt] = np.log2(probability / background[nt])\n",
    "        print(pwm)\n",
    "        input()"
   ]
  },
  {
   "cell_type": "code",
   "execution_count": 1,
   "id": "e0407ba0-acf4-4303-8b84-221f6da01172",
   "metadata": {},
   "outputs": [
    {
     "name": "stdout",
     "output_type": "stream",
     "text": [
      "Position 0: {'A': 0.5778170479052248, 'C': -0.4446555563430245, 'G': 0.15532750760590494, 'T': -0.6017004588149779}\n",
      "Position 1: {'A': -0.4446555563430245, 'C': -1.4906789941965513, 'G': 1.3090406888786523, 'T': -1.2121397361236768}\n",
      "Position 2: {'A': -0.9787735610014153, 'C': -1.4906789941965513, 'G': 1.4356905073760484, 'T': -1.2121397361236768}\n",
      "Position 3: {'A': -1.2121397361236768, 'C': -0.30303998155378037, 'G': -0.30303998155378037, 'T': 0.9614653198097716}\n",
      "Position 4: {'A': -2.291386069615304, 'C': 1.394696950653211, 'G': -0.4446555563430245, 'T': -1.2121397361236768}\n",
      "Position 5: {'A': 1.2179760101472104, 'C': -1.2121397361236768, 'G': -0.1740913207325075, 'T': -1.4906789941965513}\n",
      "Position 6: {'A': -0.6017004588149779, 'C': 0.7823564790822426, 'G': -0.05572844740070619, 'T': -0.6017004588149779}\n",
      "Position 7: {'A': -0.6017004588149779, 'C': 0.33941139147271726, 'G': 0.33941139147271726, 'T': -0.30303998155378037}\n",
      "Position 8: {'A': -0.6017004588149779, 'C': 0.25030353402852673, 'G': 0.6492678177839576, 'T': -0.7779526007046119}\n",
      "Position 9: {'A': -2.96020215416393, 'C': -2.96020215416393, 'G': -1.2121397361236768, 'T': 1.7274323972590002}\n",
      "Position 10: {'A': -2.291386069615304, 'C': -2.96020215416393, 'G': 1.7919996658454123, 'T': -2.291386069615304}\n",
      "Position 11: {'A': 1.6248171611835636, 'C': -2.291386069615304, 'G': -1.4906789941965513, 'T': -1.4906789941965513}\n",
      "Position 12: {'A': -2.291386069615304, 'C': 1.7600772118582522, 'G': -2.96020215416393, 'T': -1.8361813530597881}\n",
      "Position 13: {'A': -2.291386069615304, 'C': 1.6248171611835636, 'G': -2.291386069615304, 'T': -0.9787735610014153}\n"
     ]
    }
   ],
   "source": [
    "import math\n",
    "import numpy as np\n",
    "\n",
    "# PFM data from the PDF document\n",
    "pfm_data = {\n",
    "    'A': [18, 8, 5, 4, 1, 29, 7, 7, 7, 0, 1, 39, 1, 1],\n",
    "    'C': [8, 3, 3, 9, 33, 4, 21, 15, 14, 0, 0, 1, 43, 39],\n",
    "    'G': [13, 31, 34, 9, 8, 10, 11, 15, 19, 4, 44, 3, 0, 1],\n",
    "    'T': [7, 4, 4, 24, 4, 3, 7, 9, 6, 42, 1, 3, 2, 5]\n",
    "}\n",
    "\n",
    "# Background nucleotide probabilities (assuming equal distribution)\n",
    "background = {'A': 0.25, 'C': 0.25, 'G': 0.25, 'T': 0.25}\n",
    "\n",
    "# Convert PFM to probabilities and then to PWM (log-likelihood ratios)\n",
    "pwm = {}\n",
    "for pos in range(len(pfm_data['A'])):\n",
    "    total_counts = sum(pfm_data[nt][pos] for nt in pfm_data)\n",
    "    sqrt_total = math.sqrt(total_counts)\n",
    "    pwm[pos] = {}\n",
    "    for nt in pfm_data:\n",
    "        # Add pseudocount and normalize\n",
    "        probability = (pfm_data[nt][pos] + (sqrt_total / 4)) / (total_counts + sqrt_total)\n",
    "        pwm[pos][nt] = np.log2(probability / background[nt])\n",
    "\n",
    "# Print the PWM\n",
    "for pos in pwm:\n",
    "    print(f\"Position {pos}: {pwm[pos]}\")"
   ]
  },
  {
   "cell_type": "code",
   "execution_count": 25,
   "id": "e0caa18c-a955-4771-b788-9e56cbf2e847",
   "metadata": {},
   "outputs": [],
   "source": [
    "import pandas as pd\n",
    "\n",
    "# Convert the PWM to a DataFrame for better readability\n",
    "pwm_df = pd.DataFrame.from_dict(pwm).reset_index(drop=False)\n",
    "pwm_df.reset_index(inplace=True)"
   ]
  },
  {
   "cell_type": "code",
   "execution_count": 26,
   "id": "2f1fa2e8-99e3-4743-84de-286354552a3c",
   "metadata": {},
   "outputs": [
    {
     "data": {
      "text/html": [
       "<div>\n",
       "<style scoped>\n",
       "    .dataframe tbody tr th:only-of-type {\n",
       "        vertical-align: middle;\n",
       "    }\n",
       "\n",
       "    .dataframe tbody tr th {\n",
       "        vertical-align: top;\n",
       "    }\n",
       "\n",
       "    .dataframe thead th {\n",
       "        text-align: right;\n",
       "    }\n",
       "</style>\n",
       "<table border=\"1\" class=\"dataframe\">\n",
       "  <thead>\n",
       "    <tr style=\"text-align: right;\">\n",
       "      <th></th>\n",
       "      <th>level_0</th>\n",
       "      <th>index</th>\n",
       "      <th>0</th>\n",
       "      <th>1</th>\n",
       "      <th>2</th>\n",
       "      <th>3</th>\n",
       "      <th>4</th>\n",
       "      <th>5</th>\n",
       "      <th>6</th>\n",
       "      <th>7</th>\n",
       "      <th>8</th>\n",
       "      <th>9</th>\n",
       "      <th>10</th>\n",
       "      <th>11</th>\n",
       "      <th>12</th>\n",
       "      <th>13</th>\n",
       "    </tr>\n",
       "  </thead>\n",
       "  <tbody>\n",
       "    <tr>\n",
       "      <th>0</th>\n",
       "      <td>0</td>\n",
       "      <td>A</td>\n",
       "      <td>0.577817</td>\n",
       "      <td>-0.444656</td>\n",
       "      <td>-0.978774</td>\n",
       "      <td>-1.212140</td>\n",
       "      <td>-2.291386</td>\n",
       "      <td>1.217976</td>\n",
       "      <td>-0.601700</td>\n",
       "      <td>-0.601700</td>\n",
       "      <td>-0.601700</td>\n",
       "      <td>-2.960202</td>\n",
       "      <td>-2.291386</td>\n",
       "      <td>1.624817</td>\n",
       "      <td>-2.291386</td>\n",
       "      <td>-2.291386</td>\n",
       "    </tr>\n",
       "    <tr>\n",
       "      <th>1</th>\n",
       "      <td>1</td>\n",
       "      <td>C</td>\n",
       "      <td>-0.444656</td>\n",
       "      <td>-1.490679</td>\n",
       "      <td>-1.490679</td>\n",
       "      <td>-0.303040</td>\n",
       "      <td>1.394697</td>\n",
       "      <td>-1.212140</td>\n",
       "      <td>0.782356</td>\n",
       "      <td>0.339411</td>\n",
       "      <td>0.250304</td>\n",
       "      <td>-2.960202</td>\n",
       "      <td>-2.960202</td>\n",
       "      <td>-2.291386</td>\n",
       "      <td>1.760077</td>\n",
       "      <td>1.624817</td>\n",
       "    </tr>\n",
       "    <tr>\n",
       "      <th>2</th>\n",
       "      <td>2</td>\n",
       "      <td>G</td>\n",
       "      <td>0.155328</td>\n",
       "      <td>1.309041</td>\n",
       "      <td>1.435691</td>\n",
       "      <td>-0.303040</td>\n",
       "      <td>-0.444656</td>\n",
       "      <td>-0.174091</td>\n",
       "      <td>-0.055728</td>\n",
       "      <td>0.339411</td>\n",
       "      <td>0.649268</td>\n",
       "      <td>-1.212140</td>\n",
       "      <td>1.792000</td>\n",
       "      <td>-1.490679</td>\n",
       "      <td>-2.960202</td>\n",
       "      <td>-2.291386</td>\n",
       "    </tr>\n",
       "    <tr>\n",
       "      <th>3</th>\n",
       "      <td>3</td>\n",
       "      <td>T</td>\n",
       "      <td>-0.601700</td>\n",
       "      <td>-1.212140</td>\n",
       "      <td>-1.212140</td>\n",
       "      <td>0.961465</td>\n",
       "      <td>-1.212140</td>\n",
       "      <td>-1.490679</td>\n",
       "      <td>-0.601700</td>\n",
       "      <td>-0.303040</td>\n",
       "      <td>-0.777953</td>\n",
       "      <td>1.727432</td>\n",
       "      <td>-2.291386</td>\n",
       "      <td>-1.490679</td>\n",
       "      <td>-1.836181</td>\n",
       "      <td>-0.978774</td>\n",
       "    </tr>\n",
       "  </tbody>\n",
       "</table>\n",
       "</div>"
      ],
      "text/plain": [
       "   level_0 index         0         1         2         3         4         5  \\\n",
       "0        0     A  0.577817 -0.444656 -0.978774 -1.212140 -2.291386  1.217976   \n",
       "1        1     C -0.444656 -1.490679 -1.490679 -0.303040  1.394697 -1.212140   \n",
       "2        2     G  0.155328  1.309041  1.435691 -0.303040 -0.444656 -0.174091   \n",
       "3        3     T -0.601700 -1.212140 -1.212140  0.961465 -1.212140 -1.490679   \n",
       "\n",
       "          6         7         8         9        10        11        12  \\\n",
       "0 -0.601700 -0.601700 -0.601700 -2.960202 -2.291386  1.624817 -2.291386   \n",
       "1  0.782356  0.339411  0.250304 -2.960202 -2.960202 -2.291386  1.760077   \n",
       "2 -0.055728  0.339411  0.649268 -1.212140  1.792000 -1.490679 -2.960202   \n",
       "3 -0.601700 -0.303040 -0.777953  1.727432 -2.291386 -1.490679 -1.836181   \n",
       "\n",
       "         13  \n",
       "0 -2.291386  \n",
       "1  1.624817  \n",
       "2 -2.291386  \n",
       "3 -0.978774  "
      ]
     },
     "execution_count": 26,
     "metadata": {},
     "output_type": "execute_result"
    }
   ],
   "source": [
    "pwm_df"
   ]
  },
  {
   "cell_type": "code",
   "execution_count": 2,
   "id": "04891082-3c6a-4375-9333-3f8965d58352",
   "metadata": {},
   "outputs": [],
   "source": [
    "import math\n",
    "import numpy as np\n",
    "\n",
    "# PFM data from the PDF document\n",
    "pfm_data = {\n",
    "    'A': [18, 8, 5, 4, 1, 29, 7, 7, 7, 0, 1, 39, 1, 1],\n",
    "    'C': [8, 3, 3, 9, 33, 4, 21, 15, 14, 0, 0, 1, 43, 39],\n",
    "    'G': [13, 31, 34, 9, 8, 10, 11, 15, 19, 4, 44, 3, 0, 1],\n",
    "    'T': [7, 4, 4, 24, 4, 3, 7, 9, 6, 42, 1, 3, 2, 5]\n",
    "}"
   ]
  },
  {
   "cell_type": "code",
   "execution_count": 5,
   "id": "6f940f22-87eb-4820-8e98-cc02bd04bc66",
   "metadata": {},
   "outputs": [
    {
     "name": "stdout",
     "output_type": "stream",
     "text": [
      "A [18, 8, 5, 4, 1, 29, 7, 7, 7, 0, 1, 39, 1, 1]\n"
     ]
    },
    {
     "ename": "AttributeError",
     "evalue": "'list' object has no attribute 'values'",
     "output_type": "error",
     "traceback": [
      "\u001b[0;31m---------------------------------------------------------------------------\u001b[0m",
      "\u001b[0;31mAttributeError\u001b[0m                            Traceback (most recent call last)",
      "Cell \u001b[0;32mIn[5], line 7\u001b[0m\n\u001b[1;32m      5\u001b[0m \u001b[38;5;28;01mfor\u001b[39;00m pos, counts \u001b[38;5;129;01min\u001b[39;00m pfm_data\u001b[38;5;241m.\u001b[39mitems():\n\u001b[1;32m      6\u001b[0m     \u001b[38;5;28mprint\u001b[39m(pos, counts)\n\u001b[0;32m----> 7\u001b[0m     total_counts \u001b[38;5;241m=\u001b[39m \u001b[38;5;28msum\u001b[39m(\u001b[43mcounts\u001b[49m\u001b[38;5;241;43m.\u001b[39;49m\u001b[43mvalues\u001b[49m())\n\u001b[1;32m      8\u001b[0m     \u001b[38;5;66;03m#print(total_counts)\u001b[39;00m\n\u001b[1;32m      9\u001b[0m     pwm[pos] \u001b[38;5;241m=\u001b[39m {}\n",
      "\u001b[0;31mAttributeError\u001b[0m: 'list' object has no attribute 'values'"
     ]
    }
   ],
   "source": [
    "background = {'A': 0.25, 'C': 0.25, 'G': 0.25, 'T': 0.25}\n",
    "\n",
    "# Convert PFM to probabilities and then to PWM (log-likelihood ratios)\n",
    "pwm = {}\n",
    "for pos, counts in pfm_data.items():\n",
    "    print(pos, counts)\n",
    "    total_counts = sum(counts.values())\n",
    "    #print(total_counts)\n",
    "    pwm[pos] = {}\n",
    "    for nt, count in counts.items():\n",
    "        #print(nt, count)\n",
    "        probability = (count+ (math.sqrt(total_counts)/4)) / (total_counts+math.sqrt(total_counts))\n",
    "        #print(probability, background[nt])\n",
    "        pwm[pos][nt] = np.log2(probability / background[nt])"
   ]
  },
  {
   "cell_type": "code",
   "execution_count": null,
   "id": "ed3b0f90-719c-4fff-9021-4138afe6b14a",
   "metadata": {},
   "outputs": [],
   "source": []
  }
 ],
 "metadata": {
  "kernelspec": {
   "display_name": "Python 3 (ipykernel)",
   "language": "python",
   "name": "python3"
  },
  "language_info": {
   "codemirror_mode": {
    "name": "ipython",
    "version": 3
   },
   "file_extension": ".py",
   "mimetype": "text/x-python",
   "name": "python",
   "nbconvert_exporter": "python",
   "pygments_lexer": "ipython3",
   "version": "3.10.11"
  }
 },
 "nbformat": 4,
 "nbformat_minor": 5
}
