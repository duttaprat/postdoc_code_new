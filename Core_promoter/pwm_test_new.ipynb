{
 "cells": [
  {
   "cell_type": "code",
   "execution_count": 1,
   "id": "2c77fc67-2307-4855-89ea-6732094a4f1c",
   "metadata": {},
   "outputs": [],
   "source": [
    "import numpy as np\n",
    "import pandas as pd\n",
    "pd.set_option('display.precision', 2)\n",
    "import math"
   ]
  },
  {
   "cell_type": "code",
   "execution_count": 2,
   "id": "77a9e0e2-cb2f-42c2-ba4b-a3b4237f3773",
   "metadata": {},
   "outputs": [],
   "source": [
    "# Let's read the PFM file first to understand its structure\n",
    "file_path = '/home/campus.stonybrook.edu/pdutta/Github/Postdoc/DNABERT_data_processing/Core_promoter/test.pfm'"
   ]
  },
  {
   "cell_type": "code",
   "execution_count": 3,
   "id": "a669c6dd-39bc-4ce5-be45-2adef92337e1",
   "metadata": {},
   "outputs": [],
   "source": [
    "# Parsing the PFM data from the text file\n",
    "pfm = {}\n",
    "nucleotides = ['A', 'C', 'G', 'T']\n",
    "\n",
    "with open(file_path, 'r') as file:\n",
    "    pfm_data = file.readlines()[1:]  # Skip the first line (header)\n",
    "\n",
    "for line in pfm_data:\n",
    "    parts = line.split()\n",
    "    nt = parts[0]\n",
    "    counts = [float(count) for count in parts[1:]]\n",
    "\n",
    "    if nt in nucleotides:\n",
    "        for i, count in enumerate(counts):\n",
    "            if i not in pfm:\n",
    "                pfm[i] = {}\n",
    "            pfm[i][nt] = count"
   ]
  },
  {
   "cell_type": "code",
   "execution_count": 4,
   "id": "739a49b4-79ca-4cc5-bd70-207a090d1705",
   "metadata": {},
   "outputs": [
    {
     "data": {
      "text/plain": [
       "{0: {'A': 18.0, 'C': 8.0, 'G': 13.0, 'T': 7.0},\n",
       " 1: {'A': 8.0, 'C': 3.0, 'G': 31.0, 'T': 4.0},\n",
       " 2: {'A': 5.0, 'C': 3.0, 'G': 34.0, 'T': 4.0},\n",
       " 3: {'A': 4.0, 'C': 9.0, 'G': 9.0, 'T': 24.0},\n",
       " 4: {'A': 1.0, 'C': 33.0, 'G': 8.0, 'T': 4.0},\n",
       " 5: {'A': 29.0, 'C': 4.0, 'G': 10.0, 'T': 3.0},\n",
       " 6: {'A': 7.0, 'C': 21.0, 'G': 11.0, 'T': 7.0},\n",
       " 7: {'A': 7.0, 'C': 15.0, 'G': 15.0, 'T': 9.0},\n",
       " 8: {'A': 7.0, 'C': 14.0, 'G': 19.0, 'T': 6.0},\n",
       " 9: {'A': 0.0, 'C': 0.0, 'G': 4.0, 'T': 42.0},\n",
       " 10: {'A': 1.0, 'C': 0.0, 'G': 44.0, 'T': 1.0},\n",
       " 11: {'A': 39.0, 'C': 1.0, 'G': 3.0, 'T': 3.0},\n",
       " 12: {'A': 1.0, 'C': 43.0, 'G': 0.0, 'T': 2.0},\n",
       " 13: {'A': 1.0, 'C': 39.0, 'G': 1.0, 'T': 5.0}}"
      ]
     },
     "execution_count": 4,
     "metadata": {},
     "output_type": "execute_result"
    }
   ],
   "source": [
    "pfm"
   ]
  },
  {
   "cell_type": "code",
   "execution_count": 5,
   "id": "27693030-42c4-4fef-b44f-352451a53f6c",
   "metadata": {},
   "outputs": [],
   "source": [
    "# Background nucleotide probabilities (assuming equal distribution)\n",
    "background = {'A': 0.25, 'C': 0.25, 'G': 0.25, 'T': 0.25}\n",
    "\n",
    "# Convert PFM to probabilities and then to PWM (log-likelihood ratios)\n",
    "pwm = {}\n",
    "for pos, counts in pfm.items():\n",
    "    #print(pos, counts)\n",
    "    total_counts = sum(counts.values())\n",
    "    #print(total_counts)\n",
    "    pwm[pos] = {}\n",
    "    for nt, count in counts.items():\n",
    "        #print(nt, count)\n",
    "        probability = (count+ (math.sqrt(total_counts)/4)) / (total_counts+math.sqrt(total_counts))\n",
    "        #print(probability, background[nt])\n",
    "        pwm[pos][nt] = np.log2(probability / background[nt])"
   ]
  },
  {
   "cell_type": "code",
   "execution_count": 6,
   "id": "910a9945-c6e5-42dd-a143-aed4adfea746",
   "metadata": {},
   "outputs": [
    {
     "data": {
      "text/html": [
       "<div>\n",
       "<style scoped>\n",
       "    .dataframe tbody tr th:only-of-type {\n",
       "        vertical-align: middle;\n",
       "    }\n",
       "\n",
       "    .dataframe tbody tr th {\n",
       "        vertical-align: top;\n",
       "    }\n",
       "\n",
       "    .dataframe thead th {\n",
       "        text-align: right;\n",
       "    }\n",
       "</style>\n",
       "<table border=\"1\" class=\"dataframe\">\n",
       "  <thead>\n",
       "    <tr style=\"text-align: right;\">\n",
       "      <th>index</th>\n",
       "      <th>A</th>\n",
       "      <th>C</th>\n",
       "      <th>G</th>\n",
       "      <th>T</th>\n",
       "    </tr>\n",
       "  </thead>\n",
       "  <tbody>\n",
       "    <tr>\n",
       "      <th>0</th>\n",
       "      <td>0.58</td>\n",
       "      <td>-0.44</td>\n",
       "      <td>0.16</td>\n",
       "      <td>-0.60</td>\n",
       "    </tr>\n",
       "    <tr>\n",
       "      <th>1</th>\n",
       "      <td>-0.44</td>\n",
       "      <td>-1.49</td>\n",
       "      <td>1.31</td>\n",
       "      <td>-1.21</td>\n",
       "    </tr>\n",
       "    <tr>\n",
       "      <th>2</th>\n",
       "      <td>-0.98</td>\n",
       "      <td>-1.49</td>\n",
       "      <td>1.44</td>\n",
       "      <td>-1.21</td>\n",
       "    </tr>\n",
       "    <tr>\n",
       "      <th>3</th>\n",
       "      <td>-1.21</td>\n",
       "      <td>-0.30</td>\n",
       "      <td>-0.30</td>\n",
       "      <td>0.96</td>\n",
       "    </tr>\n",
       "    <tr>\n",
       "      <th>4</th>\n",
       "      <td>-2.29</td>\n",
       "      <td>1.39</td>\n",
       "      <td>-0.44</td>\n",
       "      <td>-1.21</td>\n",
       "    </tr>\n",
       "    <tr>\n",
       "      <th>5</th>\n",
       "      <td>1.22</td>\n",
       "      <td>-1.21</td>\n",
       "      <td>-0.17</td>\n",
       "      <td>-1.49</td>\n",
       "    </tr>\n",
       "    <tr>\n",
       "      <th>6</th>\n",
       "      <td>-0.60</td>\n",
       "      <td>0.78</td>\n",
       "      <td>-0.06</td>\n",
       "      <td>-0.60</td>\n",
       "    </tr>\n",
       "    <tr>\n",
       "      <th>7</th>\n",
       "      <td>-0.60</td>\n",
       "      <td>0.34</td>\n",
       "      <td>0.34</td>\n",
       "      <td>-0.30</td>\n",
       "    </tr>\n",
       "    <tr>\n",
       "      <th>8</th>\n",
       "      <td>-0.60</td>\n",
       "      <td>0.25</td>\n",
       "      <td>0.65</td>\n",
       "      <td>-0.78</td>\n",
       "    </tr>\n",
       "    <tr>\n",
       "      <th>9</th>\n",
       "      <td>-2.96</td>\n",
       "      <td>-2.96</td>\n",
       "      <td>-1.21</td>\n",
       "      <td>1.73</td>\n",
       "    </tr>\n",
       "    <tr>\n",
       "      <th>10</th>\n",
       "      <td>-2.29</td>\n",
       "      <td>-2.96</td>\n",
       "      <td>1.79</td>\n",
       "      <td>-2.29</td>\n",
       "    </tr>\n",
       "    <tr>\n",
       "      <th>11</th>\n",
       "      <td>1.62</td>\n",
       "      <td>-2.29</td>\n",
       "      <td>-1.49</td>\n",
       "      <td>-1.49</td>\n",
       "    </tr>\n",
       "    <tr>\n",
       "      <th>12</th>\n",
       "      <td>-2.29</td>\n",
       "      <td>1.76</td>\n",
       "      <td>-2.96</td>\n",
       "      <td>-1.84</td>\n",
       "    </tr>\n",
       "    <tr>\n",
       "      <th>13</th>\n",
       "      <td>-2.29</td>\n",
       "      <td>1.62</td>\n",
       "      <td>-2.29</td>\n",
       "      <td>-0.98</td>\n",
       "    </tr>\n",
       "  </tbody>\n",
       "</table>\n",
       "</div>"
      ],
      "text/plain": [
       "index     A     C     G     T\n",
       "0      0.58 -0.44  0.16 -0.60\n",
       "1     -0.44 -1.49  1.31 -1.21\n",
       "2     -0.98 -1.49  1.44 -1.21\n",
       "3     -1.21 -0.30 -0.30  0.96\n",
       "4     -2.29  1.39 -0.44 -1.21\n",
       "5      1.22 -1.21 -0.17 -1.49\n",
       "6     -0.60  0.78 -0.06 -0.60\n",
       "7     -0.60  0.34  0.34 -0.30\n",
       "8     -0.60  0.25  0.65 -0.78\n",
       "9     -2.96 -2.96 -1.21  1.73\n",
       "10    -2.29 -2.96  1.79 -2.29\n",
       "11     1.62 -2.29 -1.49 -1.49\n",
       "12    -2.29  1.76 -2.96 -1.84\n",
       "13    -2.29  1.62 -2.29 -0.98"
      ]
     },
     "execution_count": 6,
     "metadata": {},
     "output_type": "execute_result"
    }
   ],
   "source": [
    "pwm_df = pd.DataFrame.from_dict(pwm).reset_index(drop=False)\n",
    "#pwm_df.reset_index(inplace=True)\n",
    "pwm_df = pwm_df.set_index('index')\n",
    "\n",
    "# Transpose DataFrame to make columns as positions and rows as nucleotides\n",
    "pwm_df = pwm_df.T\n",
    "pwm_df"
   ]
  },
  {
   "cell_type": "code",
   "execution_count": 16,
   "id": "07bccf6f-3a6a-4778-a002-d5c5af2181ca",
   "metadata": {},
   "outputs": [
    {
     "data": {
      "text/plain": [
       "0.5778170479052248"
      ]
     },
     "execution_count": 16,
     "metadata": {},
     "output_type": "execute_result"
    }
   ],
   "source": [
    "pwm_df['A'][0]"
   ]
  },
  {
   "cell_type": "code",
   "execution_count": 19,
   "id": "1721f679-49af-462a-be87-11e4038e6041",
   "metadata": {},
   "outputs": [],
   "source": [
    "sequence = \"GGGTCAGCATGGCC\" "
   ]
  },
  {
   "cell_type": "code",
   "execution_count": 21,
   "id": "77416c10-59cc-41ed-bff4-6bea1c628600",
   "metadata": {},
   "outputs": [
    {
     "data": {
      "text/plain": [
       "11.56982691167751"
      ]
     },
     "execution_count": 21,
     "metadata": {},
     "output_type": "execute_result"
    }
   ],
   "source": [
    "absolute_score = sum(pwm_df[nt][pos] for pos, nt in enumerate(sequence))\n",
    "absolute_score"
   ]
  },
  {
   "cell_type": "code",
   "execution_count": 25,
   "id": "20592027-1aca-413e-a7d0-b02d12ef00aa",
   "metadata": {},
   "outputs": [],
   "source": [
    "min_possible_score = pwm_df.min(axis=1).sum()\n",
    "max_possible_score = pwm_df.max(axis=1).sum()"
   ]
  },
  {
   "cell_type": "code",
   "execution_count": 26,
   "id": "309c4fa8-187a-4773-9b9b-ce238746359a",
   "metadata": {},
   "outputs": [
    {
     "data": {
      "text/plain": [
       "0.8634838824267685"
      ]
     },
     "execution_count": 26,
     "metadata": {},
     "output_type": "execute_result"
    }
   ],
   "source": [
    "# Calculate Relative Score\n",
    "relative_score = (absolute_score - min_possible_score) / (max_possible_score - min_possible_score)\n",
    "relative_score"
   ]
  },
  {
   "cell_type": "code",
   "execution_count": null,
   "id": "ed3b0f90-719c-4fff-9021-4138afe6b14a",
   "metadata": {},
   "outputs": [],
   "source": []
  }
 ],
 "metadata": {
  "kernelspec": {
   "display_name": "Python 3 (ipykernel)",
   "language": "python",
   "name": "python3"
  },
  "language_info": {
   "codemirror_mode": {
    "name": "ipython",
    "version": 3
   },
   "file_extension": ".py",
   "mimetype": "text/x-python",
   "name": "python",
   "nbconvert_exporter": "python",
   "pygments_lexer": "ipython3",
   "version": "3.10.11"
  }
 },
 "nbformat": 4,
 "nbformat_minor": 5
}
